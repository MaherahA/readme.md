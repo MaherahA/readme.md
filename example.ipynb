#code
print("hello world")
{
 "cells": [],
 "metadata": {},
 "nbformat": 4,
 "nbformat_minor": 5
}
